{
 "cells": [
  {
   "cell_type": "code",
   "execution_count": null,
   "id": "8bec236e",
   "metadata": {},
   "outputs": [],
   "source": [
    "import pandas as pd\n",
    "from sklearn import impute, model_selection\n",
    "from sklearn.experimental import enable_iterative_imputer # Necessário para o IterativeImputer\n",
    "from sklearn.preprocessing import StandardScaler\n",
    "from sklearn.dummy import DummyClassifier\n",
    "import missingno as msno\n",
    "import matplotlib.pyplot as plt"
   ]
  },
  {
   "cell_type": "code",
   "execution_count": null,
   "id": "392e6db0",
   "metadata": {},
   "outputs": [],
   "source": [
    "# Célula 1: Carga de Dados e Inspeção\n",
    "df = pd.read_excel('titanic3.xls')\n",
    "\n",
    "# Inspeção inicial (opcional, mas bom para checagem)\n",
    "print(\"Formato dos dados:\", df.shape)\n",
    "print(\"Cabeçalho:\")\n",
    "df.head()"
   ]
  },
  {
   "cell_type": "code",
   "execution_count": null,
   "id": "f711a120",
   "metadata": {},
   "outputs": [],
   "source": [
    "df.fillna(value=pd.NA, inplace=True) #  Substitui valores ausentes por pd.NA"
   ]
  },
  {
   "cell_type": "code",
   "execution_count": null,
   "id": "0cc00523",
   "metadata": {},
   "outputs": [],
   "source": [
    "df"
   ]
  },
  {
   "cell_type": "code",
   "execution_count": null,
   "id": "0fb2b937",
   "metadata": {},
   "outputs": [],
   "source": [
    "ax = msno.matrix(df.sample(500))\n",
    "ax.get_figure().savefig('titanic/images/mlpr_0401.png')"
   ]
  },
  {
   "cell_type": "code",
   "execution_count": null,
   "id": "d8f3d732",
   "metadata": {},
   "outputs": [],
   "source": [
    "fig, ax = plt.subplots(figsize=(6, 4))\n",
    "(1 - df.isnull().mean()).abs().plot.bar(ax=ax)\n",
    "fig.savefig(\"titanic/images/mlpr_0402.png\", dpi=300)"
   ]
  },
  {
   "cell_type": "code",
   "execution_count": null,
   "id": "a7bff255",
   "metadata": {},
   "outputs": [],
   "source": [
    "ax = msno.bar(df.sample(500))\n",
    "ax.get_figure().savefig('titanic/images/mlpr_0403.png')"
   ]
  },
  {
   "cell_type": "code",
   "execution_count": null,
   "id": "7fe9a0f9",
   "metadata": {},
   "outputs": [],
   "source": [
    "ax = msno.heatmap(df, figsize=(6, 6))\n",
    "ax.get_figure().savefig('titanic/images/mlpr_0404.png')"
   ]
  },
  {
   "cell_type": "code",
   "execution_count": null,
   "id": "cb638dc9",
   "metadata": {},
   "outputs": [],
   "source": [
    "ax = msno.dendrogram(df)\n",
    "ax.get_figure().savefig('titanic/images/mlpr_0405.png')"
   ]
  },
  {
   "cell_type": "code",
   "execution_count": null,
   "id": "bae73639",
   "metadata": {},
   "outputs": [],
   "source": [
    "df1 = df.drop(columns=['age', 'cabin', 'boat', 'body', 'home.dest'])"
   ]
  },
  {
   "cell_type": "code",
   "execution_count": null,
   "id": "604f11c5",
   "metadata": {},
   "outputs": [],
   "source": [
    "df1"
   ]
  },
  {
   "cell_type": "code",
   "execution_count": null,
   "id": "08ad48b2",
   "metadata": {},
   "outputs": [],
   "source": [
    "from sklearn.impute import SimpleImputer\n",
    "num_cols = df1.select_dtypes(\n",
    "    include='number'\n",
    ").columns\n",
    "im = SimpleImputer()  # médio \n",
    "imputed = im.fit_transform(df1[num_cols])"
   ]
  },
  {
   "cell_type": "code",
   "execution_count": null,
   "id": "963ad4dc",
   "metadata": {},
   "outputs": [],
   "source": [
    "imputed"
   ]
  },
  {
   "cell_type": "code",
   "execution_count": null,
   "id": "12ec074b",
   "metadata": {},
   "outputs": [],
   "source": [
    "def add_indicator(col):\n",
    "    def wrapper(df1):\n",
    "        return df1[col].isna().astype(int)\n",
    "    \n",
    "    return wrapper"
   ]
  },
  {
   "cell_type": "code",
   "execution_count": null,
   "id": "2cca3fa3",
   "metadata": {},
   "outputs": [],
   "source": [
    "df1 = df.assign(\n",
    "    cabin_missing=add_indicator('cabin')\n",
    ")"
   ]
  },
  {
   "cell_type": "code",
   "execution_count": null,
   "id": "0e7fe944",
   "metadata": {},
   "outputs": [],
   "source": [
    "df1"
   ]
  },
  {
   "cell_type": "code",
   "execution_count": null,
   "id": "935f605c",
   "metadata": {},
   "outputs": [],
   "source": [
    "import pandas as pd \n",
    "import janitor as jn\n",
    "\n",
    "Xbad = pd.DataFrame(\n",
    "    {\n",
    "        \"A\": [1, None, 3], \n",
    "        \"  sales_numbers \": [20.0, 30.0, None],\n",
    "    }\n",
    ")"
   ]
  },
  {
   "cell_type": "code",
   "execution_count": null,
   "id": "bfbc2cf8",
   "metadata": {},
   "outputs": [],
   "source": [
    "jn.clean_names(Xbad)  "
   ]
  },
  {
   "cell_type": "code",
   "execution_count": null,
   "id": "7a9a51e6",
   "metadata": {},
   "outputs": [],
   "source": [
    "def clean_col(name):\n",
    "    return(\n",
    "        name.strip().lower().replace(\" \", \"_\")\n",
    "    )"
   ]
  },
  {
   "cell_type": "code",
   "execution_count": null,
   "id": "e0ea995b",
   "metadata": {},
   "outputs": [],
   "source": [
    "Xbad.rename(columns=clean_col)\n",
    "Xbad"
   ]
  },
  {
   "cell_type": "code",
   "execution_count": null,
   "id": "ff84b6a0",
   "metadata": {},
   "outputs": [
    {
     "data": {
      "text/html": [
       "<div>\n",
       "<style scoped>\n",
       "    .dataframe tbody tr th:only-of-type {\n",
       "        vertical-align: middle;\n",
       "    }\n",
       "\n",
       "    .dataframe tbody tr th {\n",
       "        vertical-align: top;\n",
       "    }\n",
       "\n",
       "    .dataframe thead th {\n",
       "        text-align: right;\n",
       "    }\n",
       "</style>\n",
       "<table border=\"1\" class=\"dataframe\">\n",
       "  <thead>\n",
       "    <tr style=\"text-align: right;\">\n",
       "      <th></th>\n",
       "      <th>A</th>\n",
       "      <th>sales_numbers</th>\n",
       "    </tr>\n",
       "  </thead>\n",
       "  <tbody>\n",
       "    <tr>\n",
       "      <th>0</th>\n",
       "      <td>1.0</td>\n",
       "      <td>20.0</td>\n",
       "    </tr>\n",
       "    <tr>\n",
       "      <th>1</th>\n",
       "      <td>10.0</td>\n",
       "      <td>30.0</td>\n",
       "    </tr>\n",
       "    <tr>\n",
       "      <th>2</th>\n",
       "      <td>3.0</td>\n",
       "      <td>10.0</td>\n",
       "    </tr>\n",
       "  </tbody>\n",
       "</table>\n",
       "</div>"
      ],
      "text/plain": [
       "      A    sales_numbers \n",
       "0   1.0              20.0\n",
       "1  10.0              30.0\n",
       "2   3.0              10.0"
      ]
     },
     "execution_count": 72,
     "metadata": {},
     "output_type": "execute_result"
    }
   ],
   "source": [
    "Xbad.fillna(10)\n"
   ]
  },
  {
   "cell_type": "code",
   "execution_count": null,
   "id": "9a953c8c",
   "metadata": {},
   "outputs": [],
   "source": [
    "df.isna().any().any()"
   ]
  },
  {
   "cell_type": "code",
   "execution_count": null,
   "id": "bd421999",
   "metadata": {},
   "outputs": [],
   "source": []
  }
 ],
 "metadata": {
  "kernelspec": {
   "display_name": "titanic",
   "language": "python",
   "name": "python3"
  },
  "language_info": {
   "codemirror_mode": {
    "name": "ipython",
    "version": 3
   },
   "file_extension": ".py",
   "mimetype": "text/x-python",
   "name": "python",
   "nbconvert_exporter": "python",
   "pygments_lexer": "ipython3",
   "version": "3.13.7"
  }
 },
 "nbformat": 4,
 "nbformat_minor": 5
}
